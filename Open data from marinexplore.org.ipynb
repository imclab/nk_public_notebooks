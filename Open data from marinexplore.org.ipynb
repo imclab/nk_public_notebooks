{
 "metadata": {
  "name": "Open data from marinexplore.org"
 },
 "nbformat": 3,
 "nbformat_minor": 0,
 "worksheets": [
  {
   "cells": [
    {
     "cell_type": "code",
     "collapsed": false,
     "input": [
      "%pylab inline"
     ],
     "language": "python",
     "metadata": {},
     "outputs": [
      {
       "output_type": "stream",
       "stream": "stdout",
       "text": [
        "\n",
        "Welcome to pylab, a matplotlib-based Python environment [backend: module://IPython.kernel.zmq.pylab.backend_inline].\n",
        "For more information, type 'help(pylab)'.\n"
       ]
      }
     ],
     "prompt_number": 2
    },
    {
     "cell_type": "code",
     "collapsed": false,
     "input": [
      "import pandas as pd"
     ],
     "language": "python",
     "metadata": {},
     "outputs": [],
     "prompt_number": 4
    },
    {
     "cell_type": "code",
     "collapsed": false,
     "input": [
      "df = pd.read_csv('data.csv', index_col=['date_time'], parse_dates=True)"
     ],
     "language": "python",
     "metadata": {},
     "outputs": [],
     "prompt_number": 15
    },
    {
     "cell_type": "code",
     "collapsed": false,
     "input": [
      "df.head()"
     ],
     "language": "python",
     "metadata": {},
     "outputs": [
      {
       "html": [
        "<div style=\"max-height:1000px;max-width:1500px;overflow:auto;\">\n",
        "<table border=\"1\" class=\"dataframe\">\n",
        "  <thead>\n",
        "    <tr style=\"text-align: right;\">\n",
        "      <th></th>\n",
        "      <th>station_id</th>\n",
        "      <th>latitude (degrees north)</th>\n",
        "      <th>longitude (degrees east)</th>\n",
        "      <th>depth (meters)</th>\n",
        "      <th>ocean_temperature (C\u00b0)</th>\n",
        "      <th>sea_level_pressure (hPa)</th>\n",
        "      <th>wind_direction_drift (degT)</th>\n",
        "    </tr>\n",
        "    <tr>\n",
        "      <th>date_time</th>\n",
        "      <th></th>\n",
        "      <th></th>\n",
        "      <th></th>\n",
        "      <th></th>\n",
        "      <th></th>\n",
        "      <th></th>\n",
        "      <th></th>\n",
        "    </tr>\n",
        "  </thead>\n",
        "  <tbody>\n",
        "    <tr>\n",
        "      <th>2013-04-15 00:00:00</th>\n",
        "      <td> 3757812</td>\n",
        "      <td> 65.638</td>\n",
        "      <td>-11.094</td>\n",
        "      <td> 0</td>\n",
        "      <td> 2.4</td>\n",
        "      <td>-99999.9</td>\n",
        "      <td>-1000000</td>\n",
        "    </tr>\n",
        "    <tr>\n",
        "      <th>2013-04-15 01:00:00</th>\n",
        "      <td> 3757812</td>\n",
        "      <td> 65.638</td>\n",
        "      <td>-11.094</td>\n",
        "      <td> 0</td>\n",
        "      <td> 2.4</td>\n",
        "      <td>-99999.9</td>\n",
        "      <td>-1000000</td>\n",
        "    </tr>\n",
        "    <tr>\n",
        "      <th>2013-04-15 02:00:00</th>\n",
        "      <td> 3757812</td>\n",
        "      <td> 65.638</td>\n",
        "      <td>-11.094</td>\n",
        "      <td> 0</td>\n",
        "      <td> 2.4</td>\n",
        "      <td>-99999.9</td>\n",
        "      <td>-1000000</td>\n",
        "    </tr>\n",
        "    <tr>\n",
        "      <th>2013-04-15 03:00:00</th>\n",
        "      <td> 3757812</td>\n",
        "      <td> 65.633</td>\n",
        "      <td>-11.100</td>\n",
        "      <td> 0</td>\n",
        "      <td> 2.4</td>\n",
        "      <td>-99999.9</td>\n",
        "      <td>-1000000</td>\n",
        "    </tr>\n",
        "    <tr>\n",
        "      <th>2013-04-15 04:00:00</th>\n",
        "      <td> 3757812</td>\n",
        "      <td> 65.633</td>\n",
        "      <td>-11.100</td>\n",
        "      <td> 0</td>\n",
        "      <td> 2.4</td>\n",
        "      <td>-99999.9</td>\n",
        "      <td>-1000000</td>\n",
        "    </tr>\n",
        "  </tbody>\n",
        "</table>\n",
        "</div>"
       ],
       "metadata": {},
       "output_type": "pyout",
       "prompt_number": 16,
       "text": [
        "                     station_id  latitude (degrees north)  \\\n",
        "date_time                                                   \n",
        "2013-04-15 00:00:00     3757812                    65.638   \n",
        "2013-04-15 01:00:00     3757812                    65.638   \n",
        "2013-04-15 02:00:00     3757812                    65.638   \n",
        "2013-04-15 03:00:00     3757812                    65.633   \n",
        "2013-04-15 04:00:00     3757812                    65.633   \n",
        "\n",
        "                     longitude (degrees east)  depth (meters)  \\\n",
        "date_time                                                       \n",
        "2013-04-15 00:00:00                   -11.094               0   \n",
        "2013-04-15 01:00:00                   -11.094               0   \n",
        "2013-04-15 02:00:00                   -11.094               0   \n",
        "2013-04-15 03:00:00                   -11.100               0   \n",
        "2013-04-15 04:00:00                   -11.100               0   \n",
        "\n",
        "                     ocean_temperature (C\u00b0)  sea_level_pressure (hPa)  \\\n",
        "date_time                                                               \n",
        "2013-04-15 00:00:00                     2.4                  -99999.9   \n",
        "2013-04-15 01:00:00                     2.4                  -99999.9   \n",
        "2013-04-15 02:00:00                     2.4                  -99999.9   \n",
        "2013-04-15 03:00:00                     2.4                  -99999.9   \n",
        "2013-04-15 04:00:00                     2.4                  -99999.9   \n",
        "\n",
        "                     wind_direction_drift (degT)  \n",
        "date_time                                         \n",
        "2013-04-15 00:00:00                     -1000000  \n",
        "2013-04-15 01:00:00                     -1000000  \n",
        "2013-04-15 02:00:00                     -1000000  \n",
        "2013-04-15 03:00:00                     -1000000  \n",
        "2013-04-15 04:00:00                     -1000000  "
       ]
      }
     ],
     "prompt_number": 16
    },
    {
     "cell_type": "code",
     "collapsed": false,
     "input": [
      "df['ocean_temperature (C\u00b0)'].plot()"
     ],
     "language": "python",
     "metadata": {},
     "outputs": [
      {
       "metadata": {},
       "output_type": "pyout",
       "prompt_number": 18,
       "text": [
        "<matplotlib.axes.AxesSubplot at 0xb2ea6cc>"
       ]
      },
      {
       "metadata": {},
       "output_type": "display_data",
       "png": "[encoded data removed]",
       "text": [
        "<matplotlib.figure.Figure at 0xb2f228c>"
       ]
      }
     ],
     "prompt_number": 18
    },
    {
     "cell_type": "code",
     "collapsed": false,
     "input": [],
     "language": "python",
     "metadata": {},
     "outputs": []
    }
   ],
   "metadata": {}
  }
 ]
}